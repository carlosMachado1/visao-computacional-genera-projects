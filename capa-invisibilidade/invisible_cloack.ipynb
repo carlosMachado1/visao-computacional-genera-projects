{
 "cells": [
  {
   "attachments": {},
   "cell_type": "markdown",
   "metadata": {},
   "source": [
    "# Atividade para criar uma \"Capa da Invisibilidade\"\n",
    "\n",
    "\n",
    "### Explicação\n",
    "\n",
    "\n",
    "Para esse projeto ser funcional, como é utilizado em muitas transmissões de vídeo em tempo real, será utilizado uma câmera que fará capturas em tempo real.\n",
    "\n",
    "O que será necessário?\n",
    "\n",
    "- Uma boa comfiguração para fazer os tratamentos do algoritmo em tempo real\n",
    "- Uma camera"
   ]
  },
  {
   "attachments": {},
   "cell_type": "markdown",
   "metadata": {},
   "source": [
    "### Bibliotecas Utilizadas"
   ]
  },
  {
   "cell_type": "code",
   "execution_count": 8,
   "metadata": {},
   "outputs": [],
   "source": [
    "import time\n",
    "import cv2 as cv\n",
    "import numpy as np"
   ]
  },
  {
   "attachments": {},
   "cell_type": "markdown",
   "metadata": {},
   "source": [
    "### Desenvolvimento"
   ]
  },
  {
   "cell_type": "code",
   "execution_count": 9,
   "metadata": {},
   "outputs": [],
   "source": [
    "# Armazena o primeiro frame e utiliza como background da imagem resultante\n",
    "\n",
    "\n",
    "cap = cv.VideoCapture(0)\n",
    "_, background = cap.read()\n",
    "time.sleep(2)\n",
    "_, background = cap.read()"
   ]
  },
  {
   "cell_type": "code",
   "execution_count": 10,
   "metadata": {},
   "outputs": [],
   "source": [
    "#define all the kernels size\n",
    "\n",
    "\n",
    "open_kernel = np.ones((5,5),np.uint8)\n",
    "close_kernel = np.ones((7,7),np.uint8)\n",
    "dilation_kernel = np.ones((10, 10), np.uint8)\n",
    "\n",
    "\n",
    "# Função para remover o ruído da mascara\n",
    "def filter_mask(mask):\n",
    "    close_mask = cv.morphologyEx(mask, cv.MORPH_CLOSE, close_kernel)\n",
    "    open_mask = cv.morphologyEx(close_mask, cv.MORPH_OPEN, open_kernel)\n",
    "    dilation = cv.dilate(open_mask, dilation_kernel, iterations= 1)\n",
    "    return dilation"
   ]
  },
  {
   "cell_type": "code",
   "execution_count": 11,
   "metadata": {},
   "outputs": [],
   "source": [
    "\n",
    "while cap.isOpened():\n",
    "    ret, frame = cap.read()\n",
    "    \n",
    "    # converte do espectro RGB para o HSV\n",
    "    hsv = cv.cvtColor(frame, cv.COLOR_BGR2HSV)\n",
    "\n",
    "    # lower bound and upper bound for Green color\n",
    "    # definir uma mascara para qual cor será utilizada como máscara\n",
    "    lower_bound = np.array([50, 80, 50])     \n",
    "    upper_bound = np.array([90, 255, 255])\n",
    "    \n",
    "    # lower bound and upper bound for Blue color \n",
    "    lower_bound_blue = np.array([50, 80, 80])     \n",
    "    upper_bound_blue = np.array([255, 255, 255])\n",
    "\n",
    "    # lower bound and upper bound for Red color \n",
    "    lower_bound_red = np.array([50, 50, 80])     \n",
    "    upper_bound_red = np.array([255, 255, 255])\n",
    "\n",
    "\n",
    "    # find the colors within the boundaries\n",
    "    mask = cv.inRange(hsv, lower_bound_blue, upper_bound_blue)\n",
    "\n",
    "    # Filter mask\n",
    "    mask = filter_mask(mask)\n",
    "\n",
    "    # Apply the mask to take only those region from the saved background \n",
    "    # where our cloak is present in the current frame\n",
    "    cloak = cv.bitwise_and(background, background, mask=mask)\n",
    "\n",
    "    # create inverse mask \n",
    "    inverse_mask = cv.bitwise_not(mask)  \n",
    "\n",
    "    # Apply the inverse mask to take those region of the current frame where cloak is not present \n",
    "    current_background = cv.bitwise_and(frame, frame, mask=inverse_mask)\n",
    "\n",
    "    # Combine cloak region and current_background region to get final frame \n",
    "    combined = cv.add(cloak, current_background)\n",
    "\n",
    "    cv.imshow(\"Final output\", combined)\n",
    "\n",
    "\n",
    "    if cv.waitKey(1) == ord('q'):\n",
    "                break\n",
    "cap.release()\n",
    "cv.destroyAllWindows()"
   ]
  },
  {
   "attachments": {},
   "cell_type": "markdown",
   "metadata": {},
   "source": [
    "### Conclusão\n",
    "\n",
    "\n",
    "Ainda há bastante coisa a ser feita no algoritmo como a criar ferramentas para fazer uma capa da invisibilidade iterativamente, ou seja, uma imagem é capturada e a seguir pode-se mudar os três atributos H, S ou V por meio de input deslizante.\n",
    "\n",
    "Outra melhoria seria o tratamento dos pixels que estão mortos na imagem final isso se dá por causa da mascara definida que mesmo funcionando não está funcionando 100%."
   ]
  }
 ],
 "metadata": {
  "kernelspec": {
   "display_name": "visao-computacional",
   "language": "python",
   "name": "python3"
  },
  "language_info": {
   "codemirror_mode": {
    "name": "ipython",
    "version": 3
   },
   "file_extension": ".py",
   "mimetype": "text/x-python",
   "name": "python",
   "nbconvert_exporter": "python",
   "pygments_lexer": "ipython3",
   "version": "3.9.16"
  },
  "orig_nbformat": 4
 },
 "nbformat": 4,
 "nbformat_minor": 2
}
